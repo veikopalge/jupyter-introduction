{
 "cells": [
  {
   "cell_type": "markdown",
   "metadata": {},
   "source": [
    "# Jupyter: alternatiiv Mathematicale ja Matlabile"
   ]
  },
  {
   "cell_type": "markdown",
   "metadata": {},
   "source": [
    "### Sisukord\n",
    "\n",
    "+ [Installeerimine](#installeerimine)\n",
    "+ [Python ja Jupyter](#pythonjajupyter)\n",
    "+ [Scipy: teaduslik arvutamine](#scipy)\n",
    "+ [Sympy: sümbolarvutus](#sympy)\n",
    "+ [Numpy: andmete esitamine](#numpy)\n",
    "+ [Matplotlib: graafikud](#matplotlib)\n",
    "+ [Qutip moodul kvantmehaanika jaoks](#qutip)\n",
    "+ [Näited Jupyteri töölehtedest](#galerii)\n",
    "+ [Visioon füüsikaharidusest ja arvuti kasutamisest](#uurimine)"
   ]
  },
  {
   "cell_type": "markdown",
   "metadata": {},
   "source": [
    "### Installeerimine <a name=\"installeerimine\"></a>"
   ]
  },
  {
   "cell_type": "markdown",
   "metadata": {},
   "source": [
    "Installeerimise juhised: [jupyter.readthedocs.io/en/latest/install.html](http://jupyter.readthedocs.io/en/latest/install.html)."
   ]
  },
  {
   "cell_type": "markdown",
   "metadata": {},
   "source": [
    "### Python ja Jupyter <a name=\"pythonjajupyter\"></a>"
   ]
  },
  {
   "cell_type": "markdown",
   "metadata": {},
   "source": [
    "[Jupyter](http://jupyter.org/) on notebooki laadne liides programmeerimisekeelele [Python](https://docs.python.org/3/tutorial/). Üldisemalt on Jupyteris on võimalus kasutada ka teisi programmeerimiskeeli.\n",
    "\n",
    "Töölehele saab sisestada nii teksti kui Pythoni koodi vaheldumisi.\n",
    "\n",
    "Näiteks sisestame Pythoni koodi."
   ]
  },
  {
   "cell_type": "code",
   "execution_count": 52,
   "metadata": {},
   "outputs": [
    {
     "name": "stdout",
     "output_type": "stream",
     "text": [
      "14\n"
     ]
    }
   ],
   "source": [
    "a = 5\n",
    "b = 9\n",
    "print(a + b)"
   ]
  },
  {
   "cell_type": "code",
   "execution_count": 53,
   "metadata": {
    "collapsed": true
   },
   "outputs": [],
   "source": [
    "list = []\n",
    "list.append([4, 5])"
   ]
  },
  {
   "cell_type": "code",
   "execution_count": 54,
   "metadata": {},
   "outputs": [
    {
     "data": {
      "image/png": "[encoded data removed]",
      "text/latex": [
       "$$\\left [ \\left [ 4, \\quad 5\\right ]\\right ]$$"
      ],
      "text/plain": [
       "[[4, 5]]"
      ]
     },
     "execution_count": 54,
     "metadata": {},
     "output_type": "execute_result"
    }
   ],
   "source": [
    "list"
   ]
  },
  {
   "cell_type": "code",
   "execution_count": 55,
   "metadata": {},
   "outputs": [
    {
     "name": "stdout",
     "output_type": "stream",
     "text": [
      "i =  0\n",
      "i =  1\n",
      "i =  4\n"
     ]
    }
   ],
   "source": [
    "for i in range(3):\n",
    "    print \"i = \", i**2"
   ]
  },
  {
   "cell_type": "markdown",
   "metadata": {},
   "source": [
    "### Scipy: teaduslik arvutamine <a name=\"scipy\"></a>"
   ]
  },
  {
   "cell_type": "markdown",
   "metadata": {},
   "source": [
    "WWW: [scipy.org](https://scipy.org/)\n",
    "\n",
    "Scipy on kogum teadusliku arvutamise moodulitest. Nn scipy \"stack\" koosneb moodulitest: \n",
    "\n",
    "* Numpy\n",
    "* Scipy (teaduslikud arvutused)\n",
    "* Matplotlib (graafikud)\n",
    "* IPython (Jupyter)\n",
    "* SymPy (sümbolarvutus)\n",
    "* Pandas (andmetöötlus)\n",
    "\n",
    "Kirjandus: \n",
    "\n",
    "Online raamat: [Scipy Lecture Notes. One document to learn numerics, science, and data with Python](http://www.scipy-lectures.org/index.html)\n",
    "\n",
    "Scipy tutorial: [docs.scipy.org/doc/scipy/reference/tutorial/index.html](https://docs.scipy.org/doc/scipy/reference/tutorial/index.html). \n",
    "+ Introduction\n",
    "+ Basic functions\n",
    "+ Special functions (scipy.special)\n",
    "+ Integration (scipy.integrate)\n",
    "+ Optimization (scipy.optimize)\n",
    "+ Interpolation (scipy.interpolate)\n",
    "+ Fourier Transforms (scipy.fftpack)\n",
    "+ Signal Processing (scipy.signal)\n",
    "+ Linear Algebra (scipy.linalg)\n",
    "+ Sparse Eigenvalue Problems with ARPACK\n",
    "+ Compressed Sparse Graph Routines (scipy.sparse.csgraph)\n",
    "+ Spatial data structures and algorithms (scipy.spatial)\n",
    "+ Statistics (scipy.stats)\n",
    "+ Multidimensional image processing (scipy.ndimage)\n",
    "+ File IO (scipy.io)\n",
    "\n",
    "Küsimus: Python on interpreteeritud keel. Kas scipy on küllalt kiire arvutamiseks? --- Jah on, tegelikult on scipy sageli vaid \"õhuke kiht\" või liides C-s ja Fortran-is implementeeritud algoritmidele."
   ]
  },
  {
   "cell_type": "markdown",
   "metadata": {},
   "source": [
    "### Sympy: sümbolarvutus Pythonis <a name=\"sympy\"></a>"
   ]
  },
  {
   "cell_type": "markdown",
   "metadata": {},
   "source": [
    "WWW leht: [www.sympy.org/en/index.html](http://www.sympy.org/en/index.html)."
   ]
  },
  {
   "cell_type": "code",
   "execution_count": 56,
   "metadata": {
    "collapsed": true
   },
   "outputs": [],
   "source": [
    "from sympy import *"
   ]
  },
  {
   "cell_type": "code",
   "execution_count": 57,
   "metadata": {
    "collapsed": true
   },
   "outputs": [],
   "source": [
    "A = Matrix([[1, 0], [2, 3]])"
   ]
  },
  {
   "cell_type": "code",
   "execution_count": 13,
   "metadata": {},
   "outputs": [
    {
     "data": {
      "text/plain": [
       "Matrix([\n",
       "[1, 0],\n",
       "[2, 3]])"
      ]
     },
     "execution_count": 13,
     "metadata": {},
     "output_type": "execute_result"
    }
   ],
   "source": [
    "A"
   ]
  },
  {
   "cell_type": "markdown",
   "metadata": {},
   "source": [
    "Väljatrükk on kenam latexi abil. Selleks anna käsk:"
   ]
  },
  {
   "cell_type": "code",
   "execution_count": 58,
   "metadata": {
    "collapsed": true
   },
   "outputs": [],
   "source": [
    "init_printing(use_unicode=True)"
   ]
  },
  {
   "cell_type": "code",
   "execution_count": 59,
   "metadata": {},
   "outputs": [
    {
     "data": {
      "image/png": "[encoded data removed]",
      "text/latex": [
       "$$\\left[\\begin{matrix}1 & 0\\\\2 & 3\\end{matrix}\\right]$$"
      ],
      "text/plain": [
       "⎡1  0⎤\n",
       "⎢    ⎥\n",
       "⎣2  3⎦"
      ]
     },
     "execution_count": 59,
     "metadata": {},
     "output_type": "execute_result"
    }
   ],
   "source": [
    "A"
   ]
  },
  {
   "cell_type": "markdown",
   "metadata": {},
   "source": [
    "Saab kirjutada valemeid nagu ikka latexis: $\\beta = \\int_a^b dx$. Ja eraldiseisev valem\n",
    "\n",
    "$M = \\frac{d F}{dx}$\n",
    "\n",
    "lihtsalt eraldi reale."
   ]
  },
  {
   "cell_type": "markdown",
   "metadata": {},
   "source": [
    "Sympy mooduli abil saab teha sümbolaruvutusi. Mõned näited: deklareerime muutujate sümbolid."
   ]
  },
  {
   "cell_type": "code",
   "execution_count": 60,
   "metadata": {
    "collapsed": true
   },
   "outputs": [],
   "source": [
    "a, b, c, d, e, f, g = symbols('a b c d e f g')"
   ]
  },
  {
   "cell_type": "code",
   "execution_count": 61,
   "metadata": {
    "collapsed": true
   },
   "outputs": [],
   "source": [
    "B = Matrix([[c, d], [f, g]])"
   ]
  },
  {
   "cell_type": "code",
   "execution_count": 62,
   "metadata": {},
   "outputs": [
    {
     "data": {
      "image/png": "[encoded data removed]",
      "text/latex": [
       "$$\\left[\\begin{matrix}c & d\\\\f & g\\end{matrix}\\right]$$"
      ],
      "text/plain": [
       "⎡c  d⎤\n",
       "⎢    ⎥\n",
       "⎣f  g⎦"
      ]
     },
     "execution_count": 62,
     "metadata": {},
     "output_type": "execute_result"
    }
   ],
   "source": [
    "B"
   ]
  },
  {
   "cell_type": "code",
   "execution_count": 63,
   "metadata": {},
   "outputs": [
    {
     "data": {
      "image/png": "[encoded data removed]",
      "text/latex": [
       "$$\\left[\\begin{matrix}c & d\\\\2 c + 3 f & 2 d + 3 g\\end{matrix}\\right]$$"
      ],
      "text/plain": [
       "⎡    c          d    ⎤\n",
       "⎢                    ⎥\n",
       "⎣2⋅c + 3⋅f  2⋅d + 3⋅g⎦"
      ]
     },
     "execution_count": 63,
     "metadata": {},
     "output_type": "execute_result"
    }
   ],
   "source": [
    "A * B"
   ]
  },
  {
   "cell_type": "code",
   "execution_count": 64,
   "metadata": {},
   "outputs": [
    {
     "data": {
      "image/png": "[encoded data removed]",
      "text/latex": [
       "$$\\left[\\begin{matrix}\\frac{1}{c} + \\frac{d \\left(2 c + 3 f\\right)}{c^{2} \\left(3 g - \\frac{3 d}{c} f\\right)} & - \\frac{d}{c \\left(3 g - \\frac{3 d}{c} f\\right)}\\\\- \\frac{2 c + 3 f}{c \\left(3 g - \\frac{3 d}{c} f\\right)} & \\frac{1}{3 g - \\frac{3 d}{c} f}\\end{matrix}\\right]$$"
      ],
      "text/plain": [
       "⎡1    d⋅(2⋅c + 3⋅f)          -d       ⎤\n",
       "⎢─ + ────────────────  ───────────────⎥\n",
       "⎢c    2 ⎛      3⋅d⋅f⎞    ⎛      3⋅d⋅f⎞⎥\n",
       "⎢    c ⋅⎜3⋅g - ─────⎟  c⋅⎜3⋅g - ─────⎟⎥\n",
       "⎢       ⎝        c  ⎠    ⎝        c  ⎠⎥\n",
       "⎢                                     ⎥\n",
       "⎢   -(2⋅c + 3⋅f)              1       ⎥\n",
       "⎢  ───────────────       ───────────  ⎥\n",
       "⎢    ⎛      3⋅d⋅f⎞             3⋅d⋅f  ⎥\n",
       "⎢  c⋅⎜3⋅g - ─────⎟       3⋅g - ─────  ⎥\n",
       "⎣    ⎝        c  ⎠               c    ⎦"
      ]
     },
     "execution_count": 64,
     "metadata": {},
     "output_type": "execute_result"
    }
   ],
   "source": [
    "(A * B).inv()"
   ]
  },
  {
   "cell_type": "code",
   "execution_count": 65,
   "metadata": {},
   "outputs": [
    {
     "data": {
      "image/png": "[encoded data removed]",
      "text/latex": [
       "$$\\left[\\begin{matrix}c \\left(\\frac{1}{c} + \\frac{d \\left(2 c + 3 f\\right)}{c^{2} \\left(3 g - \\frac{3 d}{c} f\\right)}\\right) - \\frac{d \\left(2 c + 3 f\\right)}{c \\left(3 g - \\frac{3 d}{c} f\\right)} & 0\\\\\\left(\\frac{1}{c} + \\frac{d \\left(2 c + 3 f\\right)}{c^{2} \\left(3 g - \\frac{3 d}{c} f\\right)}\\right) \\left(2 c + 3 f\\right) - \\frac{\\left(2 c + 3 f\\right) \\left(2 d + 3 g\\right)}{c \\left(3 g - \\frac{3 d}{c} f\\right)} & \\frac{2 d + 3 g}{3 g - \\frac{3 d}{c} f} - \\frac{d \\left(2 c + 3 f\\right)}{c \\left(3 g - \\frac{3 d}{c} f\\right)}\\end{matrix}\\right]$$"
      ],
      "text/plain": [
       "⎡           ⎛1    d⋅(2⋅c + 3⋅f)  ⎞    d⋅(2⋅c + 3⋅f)                           \n",
       "⎢         c⋅⎜─ + ────────────────⎟ - ───────────────                         0\n",
       "⎢           ⎜c    2 ⎛      3⋅d⋅f⎞⎟     ⎛      3⋅d⋅f⎞                          \n",
       "⎢           ⎜    c ⋅⎜3⋅g - ─────⎟⎟   c⋅⎜3⋅g - ─────⎟                          \n",
       "⎢           ⎝       ⎝        c  ⎠⎠     ⎝        c  ⎠                          \n",
       "⎢                                                                             \n",
       "⎢⎛1    d⋅(2⋅c + 3⋅f)  ⎞               (2⋅c + 3⋅f)⋅(2⋅d + 3⋅g)   2⋅d + 3⋅g     \n",
       "⎢⎜─ + ────────────────⎟⋅(2⋅c + 3⋅f) - ───────────────────────  ─────────── - ─\n",
       "⎢⎜c    2 ⎛      3⋅d⋅f⎞⎟                     ⎛      3⋅d⋅f⎞            3⋅d⋅f    \n",
       "⎢⎜    c ⋅⎜3⋅g - ─────⎟⎟                   c⋅⎜3⋅g - ─────⎟      3⋅g - ─────   c\n",
       "⎣⎝       ⎝        c  ⎠⎠                     ⎝        c  ⎠              c      \n",
       "\n",
       "              ⎤\n",
       "              ⎥\n",
       "              ⎥\n",
       "              ⎥\n",
       "              ⎥\n",
       "              ⎥\n",
       "d⋅(2⋅c + 3⋅f) ⎥\n",
       "──────────────⎥\n",
       " ⎛      3⋅d⋅f⎞⎥\n",
       "⋅⎜3⋅g - ─────⎟⎥\n",
       " ⎝        c  ⎠⎦"
      ]
     },
     "execution_count": 65,
     "metadata": {},
     "output_type": "execute_result"
    }
   ],
   "source": [
    "(A * B) * (A * B).inv()"
   ]
  },
  {
   "cell_type": "code",
   "execution_count": 66,
   "metadata": {
    "collapsed": true
   },
   "outputs": [],
   "source": [
    "C = (A * B) * (A * B).inv()"
   ]
  },
  {
   "cell_type": "code",
   "execution_count": 68,
   "metadata": {},
   "outputs": [
    {
     "data": {
      "image/png": "[encoded data removed]",
      "text/latex": [
       "$$\\left[\\begin{matrix}c \\left(\\frac{1}{c} + \\frac{d \\left(2 c + 3 f\\right)}{c^{2} \\left(3 g - \\frac{3 d}{c} f\\right)}\\right) - \\frac{d \\left(2 c + 3 f\\right)}{c \\left(3 g - \\frac{3 d}{c} f\\right)} & 0\\\\\\left(\\frac{1}{c} + \\frac{d \\left(2 c + 3 f\\right)}{c^{2} \\left(3 g - \\frac{3 d}{c} f\\right)}\\right) \\left(2 c + 3 f\\right) - \\frac{\\left(2 c + 3 f\\right) \\left(2 d + 3 g\\right)}{c \\left(3 g - \\frac{3 d}{c} f\\right)} & \\frac{2 d + 3 g}{3 g - \\frac{3 d}{c} f} - \\frac{d \\left(2 c + 3 f\\right)}{c \\left(3 g - \\frac{3 d}{c} f\\right)}\\end{matrix}\\right]$$"
      ],
      "text/plain": [
       "⎡           ⎛1    d⋅(2⋅c + 3⋅f)  ⎞    d⋅(2⋅c + 3⋅f)                           \n",
       "⎢         c⋅⎜─ + ────────────────⎟ - ───────────────                         0\n",
       "⎢           ⎜c    2 ⎛      3⋅d⋅f⎞⎟     ⎛      3⋅d⋅f⎞                          \n",
       "⎢           ⎜    c ⋅⎜3⋅g - ─────⎟⎟   c⋅⎜3⋅g - ─────⎟                          \n",
       "⎢           ⎝       ⎝        c  ⎠⎠     ⎝        c  ⎠                          \n",
       "⎢                                                                             \n",
       "⎢⎛1    d⋅(2⋅c + 3⋅f)  ⎞               (2⋅c + 3⋅f)⋅(2⋅d + 3⋅g)   2⋅d + 3⋅g     \n",
       "⎢⎜─ + ────────────────⎟⋅(2⋅c + 3⋅f) - ───────────────────────  ─────────── - ─\n",
       "⎢⎜c    2 ⎛      3⋅d⋅f⎞⎟                     ⎛      3⋅d⋅f⎞            3⋅d⋅f    \n",
       "⎢⎜    c ⋅⎜3⋅g - ─────⎟⎟                   c⋅⎜3⋅g - ─────⎟      3⋅g - ─────   c\n",
       "⎣⎝       ⎝        c  ⎠⎠                     ⎝        c  ⎠              c      \n",
       "\n",
       "              ⎤\n",
       "              ⎥\n",
       "              ⎥\n",
       "              ⎥\n",
       "              ⎥\n",
       "              ⎥\n",
       "d⋅(2⋅c + 3⋅f) ⎥\n",
       "──────────────⎥\n",
       " ⎛      3⋅d⋅f⎞⎥\n",
       "⋅⎜3⋅g - ─────⎟⎥\n",
       " ⎝        c  ⎠⎦"
      ]
     },
     "execution_count": 68,
     "metadata": {},
     "output_type": "execute_result"
    }
   ],
   "source": [
    "C"
   ]
  },
  {
   "cell_type": "code",
   "execution_count": 69,
   "metadata": {
    "collapsed": true
   },
   "outputs": [],
   "source": [
    "C.simplify()"
   ]
  },
  {
   "cell_type": "code",
   "execution_count": 70,
   "metadata": {},
   "outputs": [
    {
     "data": {
      "image/png": "[encoded data removed]",
      "text/latex": [
       "$$\\left[\\begin{matrix}1 & 0\\\\0 & 1\\end{matrix}\\right]$$"
      ],
      "text/plain": [
       "⎡1  0⎤\n",
       "⎢    ⎥\n",
       "⎣0  1⎦"
      ]
     },
     "execution_count": 70,
     "metadata": {},
     "output_type": "execute_result"
    }
   ],
   "source": [
    "C"
   ]
  },
  {
   "cell_type": "markdown",
   "metadata": {
    "collapsed": true
   },
   "source": [
    "### Numpy: andmete esitamine <a name=\"numpy\"></a>"
   ]
  },
  {
   "cell_type": "markdown",
   "metadata": {},
   "source": [
    "WWW: [www.numpy.org](http://www.numpy.org/)."
   ]
  },
  {
   "cell_type": "code",
   "execution_count": 17,
   "metadata": {
    "collapsed": true
   },
   "outputs": [],
   "source": [
    "import numpy as np"
   ]
  },
  {
   "cell_type": "code",
   "execution_count": 21,
   "metadata": {},
   "outputs": [
    {
     "name": "stdout",
     "output_type": "stream",
     "text": [
      "[1 2 3 4 5 6]\n"
     ]
    }
   ],
   "source": [
    "a = np.array([1, 2, 3, 4, 5, 6])\n",
    "print(a)"
   ]
  },
  {
   "cell_type": "code",
   "execution_count": 48,
   "metadata": {},
   "outputs": [
    {
     "data": {
      "text/plain": [
       "array([ 0.84147098,  0.90929743,  0.14112001, -0.7568025 , -0.95892427,\n",
       "       -0.2794155 ])"
      ]
     },
     "execution_count": 48,
     "metadata": {},
     "output_type": "execute_result"
    }
   ],
   "source": [
    "np.sin(a)"
   ]
  },
  {
   "cell_type": "code",
   "execution_count": 49,
   "metadata": {},
   "outputs": [
    {
     "data": {
      "text/plain": [
       "array([ 1.38177329,  0.49315059, -0.84887249, -1.41044612, -0.67526209,\n",
       "        0.68075479])"
      ]
     },
     "execution_count": 49,
     "metadata": {},
     "output_type": "execute_result"
    }
   ],
   "source": [
    "np.cos(a) + np.sin(a)"
   ]
  },
  {
   "cell_type": "markdown",
   "metadata": {},
   "source": [
    "### Matplotlib: graafikud <a name=\"matplotlib\"></a>"
   ]
  },
  {
   "cell_type": "markdown",
   "metadata": {},
   "source": [
    "WWW: [matplotlib.org](https://matplotlib.org/)."
   ]
  },
  {
   "cell_type": "code",
   "execution_count": 23,
   "metadata": {},
   "outputs": [
    {
     "data": {
      "image/png": "[encoded data removed]",
      "text/plain": [
       "<matplotlib.figure.Figure at 0x8129b3c50>"
      ]
     },
     "metadata": {},
     "output_type": "display_data"
    }
   ],
   "source": [
    "import matplotlib.pyplot as plt\n",
    "plt.plot([1,2,3,4], [1,4,9,16])\n",
    "plt.show()"
   ]
  },
  {
   "cell_type": "code",
   "execution_count": 41,
   "metadata": {},
   "outputs": [
    {
     "data": {
      "text/plain": [
       "array([ 0.        ,  0.33069396,  0.66138793,  0.99208189,  1.32277585,\n",
       "        1.65346982,  1.98416378,  2.31485774,  2.64555171,  2.97624567,\n",
       "        3.30693964,  3.6376336 ,  3.96832756,  4.29902153,  4.62971549,\n",
       "        4.96040945,  5.29110342,  5.62179738,  5.95249134,  6.28318531])"
      ]
     },
     "execution_count": 41,
     "metadata": {},
     "output_type": "execute_result"
    }
   ],
   "source": [
    "domain = np.linspace(0.0, 2 * np.pi, 20)\n",
    "domain"
   ]
  },
  {
   "cell_type": "code",
   "execution_count": 47,
   "metadata": {},
   "outputs": [
    {
     "data": {
      "image/png": "[encoded data removed]",
      "text/plain": [
       "<matplotlib.figure.Figure at 0x815487a90>"
      ]
     },
     "metadata": {},
     "output_type": "display_data"
    }
   ],
   "source": [
    "func_sin = np.sin(domain)\n",
    "func_cos = np.cos(domain)\n",
    "plt.plot(domain, func_sin)\n",
    "plt.plot(domain, func_cos)\n",
    "plt.ylabel('sin(x), cos(x)')\n",
    "plt.xlabel('x')\n",
    "plt.show()"
   ]
  },
  {
   "cell_type": "markdown",
   "metadata": {},
   "source": [
    "### Qutip: kvantmehaanika moodul <a name=\"qutip\"></a>"
   ]
  },
  {
   "cell_type": "markdown",
   "metadata": {},
   "source": [
    "WWW: [qutip.org](http://qutip.org/)."
   ]
  },
  {
   "cell_type": "markdown",
   "metadata": {},
   "source": [
    "### Jupyteri töölehtede galerii <a name=\"galerii\"></a>"
   ]
  },
  {
   "cell_type": "markdown",
   "metadata": {},
   "source": [
    "+ [Huvitavad töölehed](https://github.com/jupyter/jupyter/wiki/A-gallery-of-interesting-Jupyter-Notebooks)\n",
    "+ [Veel näiteid](http://nb.bianp.net/sort/views/)\n",
    "+ [Lorentz differential equations](http://ipywidgets.readthedocs.io/en/latest/examples/Lorenz%20Differential%20Equations.html) \n",
    "\n",
    "\n",
    "Selleks, et viimases töölehes liugur töötaks peab liuguri \"vidin\" olema installeeritud."
   ]
  },
  {
   "cell_type": "markdown",
   "metadata": {},
   "source": [
    "### Visioon füüsikaharidusest ja arvuti kasutamisest <a name=\"uurimine\"></a>"
   ]
  },
  {
   "cell_type": "markdown",
   "metadata": {},
   "source": [
    "[Visioon füüsikaharidusest ja arvuti kasutamisest](https://docs.google.com/document/d/1Hju8Jh-DnD-siR4H-GQLu2u2O5CPOE76ChPR4c-9cTU/edit?usp=sharing)."
   ]
  },
  {
   "cell_type": "code",
   "execution_count": null,
   "metadata": {
    "collapsed": true
   },
   "outputs": [],
   "source": []
  }
 ],
 "metadata": {
  "kernelspec": {
   "display_name": "Python 2",
   "language": "python",
   "name": "python2"
  },
  "language_info": {
   "codemirror_mode": {
    "name": "ipython",
    "version": 2
   },
   "file_extension": ".py",
   "mimetype": "text/x-python",
   "name": "python",
   "nbconvert_exporter": "python",
   "pygments_lexer": "ipython2",
   "version": "2.7.13"
  }
 },
 "nbformat": 4,
 "nbformat_minor": 2
}
